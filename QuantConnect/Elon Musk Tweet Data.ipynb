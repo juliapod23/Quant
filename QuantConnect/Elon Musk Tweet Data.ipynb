{
 "cells": [
  {
   "cell_type": "code",
   "execution_count": 1,
   "metadata": {},
   "outputs": [],
   "source": [
    "import pandas as pd\n",
    "import re"
   ]
  },
  {
   "cell_type": "code",
   "execution_count": null,
   "metadata": {},
   "outputs": [],
   "source": [
    "# Import csv to dataframe\n",
    "df = pd.read_csv(\"data_elonmusk.csv\", encoding = 'latin1')"
   ]
  },
  {
   "cell_type": "code",
   "execution_count": 3,
   "metadata": {},
   "outputs": [],
   "source": [
    "# Select time and tweet columns\n",
    "df = df[['Time', 'Tweet']]"
   ]
  },
  {
   "cell_type": "code",
   "execution_count": 4,
   "metadata": {},
   "outputs": [],
   "source": [
    "# Reverse order\n",
    "df = df[::-1].reset_index(drop=True)"
   ]
  },
  {
   "cell_type": "code",
   "execution_count": 5,
   "metadata": {},
   "outputs": [
    {
     "name": "stderr",
     "output_type": "stream",
     "text": [
      "C:\\Users\\tikit\\AppData\\Local\\Temp\\ipykernel_19604\\3557448150.py:6: FutureWarning: ChainedAssignmentError: behaviour will change in pandas 3.0!\n",
      "You are setting values through chained assignment. Currently this works in certain cases, but when using Copy-on-Write (which will become the default behaviour in pandas 3.0) this will never work to update the original DataFrame or Series, because the intermediate object on which we are setting values will behave as a copy.\n",
      "A typical example is when you are setting values in a column of a DataFrame, like:\n",
      "\n",
      "df[\"col\"][row_indexer] = value\n",
      "\n",
      "Use `df.loc[row_indexer, \"col\"] = values` instead, to perform the assignment in a single step and ensure this keeps updating the original `df`.\n",
      "\n",
      "See the caveats in the documentation: https://pandas.pydata.org/pandas-docs/stable/user_guide/indexing.html#returning-a-view-versus-a-copy\n",
      "\n",
      "  df['Tweet'][i] = df['Tweet'][i].replace(url, '{URL}')\n"
     ]
    }
   ],
   "source": [
    "# Replace urls with {URL}\n",
    "for i in range(0,len(df)):\n",
    "    if 'http' in df['Tweet'][i]:\n",
    "        urls = re.findall(r'(https?://\\S+)', df['Tweet'][i])\n",
    "        for url in urls:\n",
    "            df['Tweet'][i] = df['Tweet'][i].replace(url, '{URL}')"
   ]
  },
  {
   "cell_type": "code",
   "execution_count": 6,
   "metadata": {},
   "outputs": [
    {
     "data": {
      "text/html": [
       "<div>\n",
       "<style scoped>\n",
       "    .dataframe tbody tr th:only-of-type {\n",
       "        vertical-align: middle;\n",
       "    }\n",
       "\n",
       "    .dataframe tbody tr th {\n",
       "        vertical-align: top;\n",
       "    }\n",
       "\n",
       "    .dataframe thead th {\n",
       "        text-align: right;\n",
       "    }\n",
       "</style>\n",
       "<table border=\"1\" class=\"dataframe\">\n",
       "  <thead>\n",
       "    <tr style=\"text-align: right;\">\n",
       "      <th></th>\n",
       "      <th>Time</th>\n",
       "      <th>Tweet</th>\n",
       "    </tr>\n",
       "  </thead>\n",
       "  <tbody>\n",
       "    <tr>\n",
       "      <th>0</th>\n",
       "      <td>2012-11-16 17:59:47</td>\n",
       "      <td>RT @Jon_Favreau: My Model S just arrived and I...</td>\n",
       "    </tr>\n",
       "    <tr>\n",
       "      <th>1</th>\n",
       "      <td>2012-11-19 08:59:46</td>\n",
       "      <td>Just returned from a trip to London and Oxford...</td>\n",
       "    </tr>\n",
       "    <tr>\n",
       "      <th>2</th>\n",
       "      <td>2012-11-20 08:30:44</td>\n",
       "      <td>Was misquoted by BBC as saying Europe's rocket...</td>\n",
       "    </tr>\n",
       "    <tr>\n",
       "      <th>3</th>\n",
       "      <td>2012-11-20 08:38:31</td>\n",
       "      <td>These articles in Space News describe why Aria...</td>\n",
       "    </tr>\n",
       "    <tr>\n",
       "      <th>4</th>\n",
       "      <td>2012-11-20 08:52:03</td>\n",
       "      <td>@YOUSRC Amos's article was fair, but his edito...</td>\n",
       "    </tr>\n",
       "  </tbody>\n",
       "</table>\n",
       "</div>"
      ],
      "text/plain": [
       "                  Time                                              Tweet\n",
       "0  2012-11-16 17:59:47  RT @Jon_Favreau: My Model S just arrived and I...\n",
       "1  2012-11-19 08:59:46  Just returned from a trip to London and Oxford...\n",
       "2  2012-11-20 08:30:44  Was misquoted by BBC as saying Europe's rocket...\n",
       "3  2012-11-20 08:38:31  These articles in Space News describe why Aria...\n",
       "4  2012-11-20 08:52:03  @YOUSRC Amos's article was fair, but his edito..."
      ]
     },
     "execution_count": 6,
     "metadata": {},
     "output_type": "execute_result"
    }
   ],
   "source": [
    "df.head()"
   ]
  },
  {
   "cell_type": "code",
   "execution_count": 8,
   "metadata": {},
   "outputs": [
    {
     "data": {
      "text/plain": [
       "<bound method NDFrame.to_csv of                      Time                                              Tweet\n",
       "0     2012-11-16 17:59:47  RT @Jon_Favreau: My Model S just arrived and I...\n",
       "1     2012-11-19 08:59:46  Just returned from a trip to London and Oxford...\n",
       "2     2012-11-20 08:30:44  Was misquoted by BBC as saying Europe's rocket...\n",
       "3     2012-11-20 08:38:31  These articles in Space News describe why Aria...\n",
       "4     2012-11-20 08:52:03  @YOUSRC Amos's article was fair, but his edito...\n",
       "...                   ...                                                ...\n",
       "3213  2017-09-29 09:19:21  Fly to most places on Earth in under 30 mins a...\n",
       "3214  2017-09-29 09:56:12                                       Part 2 {URL}\n",
       "3215  2017-09-29 10:39:57                                     @bigajm Yup :)\n",
       "3216  2017-09-29 10:44:54  RT @SpaceX: BFR is capable of transporting sat...\n",
       "3217  2017-09-29 17:39:19  @MeltingIce Assuming max acceleration of 2 to ...\n",
       "\n",
       "[3218 rows x 2 columns]>"
      ]
     },
     "execution_count": 8,
     "metadata": {},
     "output_type": "execute_result"
    }
   ],
   "source": [
    "# Save to csv\n",
    "df.to_csv"
   ]
  }
 ],
 "metadata": {
  "kernelspec": {
   "display_name": "Python 3",
   "language": "python",
   "name": "python3"
  },
  "language_info": {
   "codemirror_mode": {
    "name": "ipython",
    "version": 3
   },
   "file_extension": ".py",
   "mimetype": "text/x-python",
   "name": "python",
   "nbconvert_exporter": "python",
   "pygments_lexer": "ipython3",
   "version": "3.10.11"
  }
 },
 "nbformat": 4,
 "nbformat_minor": 2
}
